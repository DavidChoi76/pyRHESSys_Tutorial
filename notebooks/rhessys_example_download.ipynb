{
 "cells": [
  {
   "cell_type": "markdown",
   "metadata": {},
   "source": [
    "## Download RHESsys model instances from HydroShare"
   ]
  },
  {
   "cell_type": "code",
   "execution_count": 6,
   "metadata": {},
   "outputs": [],
   "source": [
    "from hs_restclient import HydroShare\n",
    "import shutil, os, zipfile, glob"
   ]
  },
  {
   "cell_type": "code",
   "execution_count": null,
   "metadata": {},
   "outputs": [],
   "source": [
    "current_path = os.getcwd()"
   ]
  },
  {
   "cell_type": "code",
   "execution_count": 11,
   "metadata": {},
   "outputs": [],
   "source": [
    "# Download RHESsys model data from HydroShare\n",
    "hs = HydroShare()\n",
    "resource_id = '726ad560948d4c88b6ca7ef8b3d44cba'\n",
    "hs.getResource(resource_id, destination=current_path, unzip=True)"
   ]
  },
  {
   "cell_type": "code",
   "execution_count": 12,
   "metadata": {},
   "outputs": [],
   "source": [
    "# move downloaded files to current directory\n",
    "hydroshare_resources = os.path.join(current_path, resource_id, resource_id, 'data/contents')\n",
    "for file in glob.glob(hydroshare_resources +'/*'):\n",
    "    if file == hydroshare_resources + \"/rhessys_example_download.ipynb\":\n",
    "        pass\n",
    "    else:\n",
    "        shutil.move(file, current_path)"
   ]
  },
  {
   "cell_type": "code",
   "execution_count": 13,
   "metadata": {},
   "outputs": [],
   "source": [
    "# unzip zip file\n",
    "zip_ref = zipfile.ZipFile(os.path.join(current_path, \"code.zip\"), 'r')\n",
    "zip_ref.extractall(current_path)\n",
    "# remove unnecessary files\n",
    "os.remove(os.path.join(current_path, \"code.zip\"))\n",
    "shutil.rmtree(os.path.join(current_path, resource_id))"
   ]
  },
  {
   "cell_type": "markdown",
   "metadata": {},
   "source": [
    "## Move to  1. Preprocessing to Create RHESsys Model Input using GRASS GIS and R-script on Collaborative Modeling Framework"
   ]
  },
  {
   "cell_type": "markdown",
   "metadata": {},
   "source": [
    "[1. Preprocessing to Create RHESsys Model Input using GRASS GIS and R-script on Collaborative Modeling Framework.ipynb](./1_Preprocessing_to_Create_RHESsys_Model_Input_using_GRASS_GIS_and_R-script_on_Collaborative_Modeling_Framework.ipynb)"
   ]
  }
 ],
 "metadata": {
  "kernelspec": {
   "display_name": "Python 3",
   "language": "python",
   "name": "python3"
  },
  "language_info": {
   "codemirror_mode": {
    "name": "ipython",
    "version": 3
   },
   "file_extension": ".py",
   "mimetype": "text/x-python",
   "name": "python",
   "nbconvert_exporter": "python",
   "pygments_lexer": "ipython3",
   "version": "3.7.1"
  }
 },
 "nbformat": 4,
 "nbformat_minor": 2
}
